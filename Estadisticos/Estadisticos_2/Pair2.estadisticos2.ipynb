{
 "cells": [
  {
   "cell_type": "markdown",
   "metadata": {},
   "source": [
    "# Pair Programming 25/05 Tatiana y Guada"
   ]
  },
  {
   "cell_type": "code",
   "execution_count": 3,
   "metadata": {},
   "outputs": [],
   "source": [
    "import numpy as np\n",
    "import pandas as pd\n",
    "import seaborn as sns\n",
    "import matplotlib.pyplot as plt"
   ]
  },
  {
   "cell_type": "markdown",
   "metadata": {},
   "source": [
    "# Ejercicio 1\n",
    "Pregunta teórica: ¿Qué diferencia existe entre la covarianza y la correlación?"
   ]
  },
  {
   "cell_type": "markdown",
   "metadata": {},
   "source": [
    "La covarianza indica si ambas variables varían en la misma dirección (covarianza positiva, es decir, si aumenta el valor de una variable aumenta el variable de la otra) o en dirección opuesta (covarianza negativa cuando aumenta el valor de una de las variables, disminuye el de la otra). En este caso el valor de la covarianza no es importante, solo el signo (si es positivo o negativo).\n",
    "\n",
    "Mientras que, la correlación nos indica la \"fuerza\" de esa relación. Explica el cambio en una variable, cuánto cambio de proporción tiene en la segunda variable.\n",
    "La correlación varía entre -1 a +1. Si el valor de correlación es 0, significa que no existe una relación lineal entre las variables."
   ]
  },
  {
   "cell_type": "markdown",
   "metadata": {},
   "source": [
    "#   Ejercicio 2\n",
    "Calculad la covarianza y la correlación de nuestro dataset. No nos vale solo con que la calculéis, debéis hacer una interpretación de los resultados obtenidos. Calculad solo la correlación de Pearson."
   ]
  },
  {
   "cell_type": "code",
   "execution_count": 7,
   "metadata": {},
   "outputs": [
    {
     "data": {
      "text/html": [
       "<div>\n",
       "<style scoped>\n",
       "    .dataframe tbody tr th:only-of-type {\n",
       "        vertical-align: middle;\n",
       "    }\n",
       "\n",
       "    .dataframe tbody tr th {\n",
       "        vertical-align: top;\n",
       "    }\n",
       "\n",
       "    .dataframe thead th {\n",
       "        text-align: right;\n",
       "    }\n",
       "</style>\n",
       "<table border=\"1\" class=\"dataframe\">\n",
       "  <thead>\n",
       "    <tr style=\"text-align: right;\">\n",
       "      <th></th>\n",
       "      <th>id</th>\n",
       "      <th>name</th>\n",
       "      <th>host_id</th>\n",
       "      <th>host_name</th>\n",
       "      <th>neighbourhood_group</th>\n",
       "      <th>neighbourhood</th>\n",
       "      <th>latitude</th>\n",
       "      <th>longitude</th>\n",
       "      <th>room_type</th>\n",
       "      <th>price</th>\n",
       "      <th>minimum_nights</th>\n",
       "      <th>number_of_reviews</th>\n",
       "      <th>last_review</th>\n",
       "      <th>reviews_per_month</th>\n",
       "      <th>calculated_host_listings_count</th>\n",
       "      <th>availability_365</th>\n",
       "      <th>number_of_reviews_ltm</th>\n",
       "      <th>license</th>\n",
       "    </tr>\n",
       "  </thead>\n",
       "  <tbody>\n",
       "    <tr>\n",
       "      <th>0</th>\n",
       "      <td>6369</td>\n",
       "      <td>Rooftop terrace room ,  ensuite bathroom</td>\n",
       "      <td>13660</td>\n",
       "      <td>Simon</td>\n",
       "      <td>Chamartín</td>\n",
       "      <td>Hispanoamérica</td>\n",
       "      <td>40.45724</td>\n",
       "      <td>-3.67688</td>\n",
       "      <td>Private room</td>\n",
       "      <td>59</td>\n",
       "      <td>1</td>\n",
       "      <td>81</td>\n",
       "      <td>2021-11-20</td>\n",
       "      <td>0.57</td>\n",
       "      <td>1</td>\n",
       "      <td>149</td>\n",
       "      <td>3</td>\n",
       "      <td>NaN</td>\n",
       "    </tr>\n",
       "    <tr>\n",
       "      <th>1</th>\n",
       "      <td>21853</td>\n",
       "      <td>Bright and airy room</td>\n",
       "      <td>83531</td>\n",
       "      <td>Abdel</td>\n",
       "      <td>Latina</td>\n",
       "      <td>Cármenes</td>\n",
       "      <td>40.40381</td>\n",
       "      <td>-3.74130</td>\n",
       "      <td>Private room</td>\n",
       "      <td>31</td>\n",
       "      <td>4</td>\n",
       "      <td>33</td>\n",
       "      <td>2018-07-15</td>\n",
       "      <td>0.38</td>\n",
       "      <td>2</td>\n",
       "      <td>131</td>\n",
       "      <td>0</td>\n",
       "      <td>NaN</td>\n",
       "    </tr>\n",
       "    <tr>\n",
       "      <th>2</th>\n",
       "      <td>23001</td>\n",
       "      <td>Apartmento Arganzuela- Madrid Rio</td>\n",
       "      <td>82175</td>\n",
       "      <td>Jesus</td>\n",
       "      <td>Arganzuela</td>\n",
       "      <td>Legazpi</td>\n",
       "      <td>40.38840</td>\n",
       "      <td>-3.69511</td>\n",
       "      <td>Entire home/apt</td>\n",
       "      <td>50</td>\n",
       "      <td>15</td>\n",
       "      <td>0</td>\n",
       "      <td>NaN</td>\n",
       "      <td>NaN</td>\n",
       "      <td>6</td>\n",
       "      <td>311</td>\n",
       "      <td>0</td>\n",
       "      <td>NaN</td>\n",
       "    </tr>\n",
       "    <tr>\n",
       "      <th>3</th>\n",
       "      <td>24805</td>\n",
       "      <td>Gran Via Studio Madrid</td>\n",
       "      <td>346366726</td>\n",
       "      <td>A</td>\n",
       "      <td>Centro</td>\n",
       "      <td>Universidad</td>\n",
       "      <td>40.42183</td>\n",
       "      <td>-3.70529</td>\n",
       "      <td>Entire home/apt</td>\n",
       "      <td>92</td>\n",
       "      <td>5</td>\n",
       "      <td>14</td>\n",
       "      <td>2021-11-29</td>\n",
       "      <td>0.16</td>\n",
       "      <td>1</td>\n",
       "      <td>167</td>\n",
       "      <td>4</td>\n",
       "      <td>NaN</td>\n",
       "    </tr>\n",
       "    <tr>\n",
       "      <th>4</th>\n",
       "      <td>26825</td>\n",
       "      <td>Single Room whith private Bathroom</td>\n",
       "      <td>114340</td>\n",
       "      <td>Agustina</td>\n",
       "      <td>Arganzuela</td>\n",
       "      <td>Legazpi</td>\n",
       "      <td>40.38975</td>\n",
       "      <td>-3.69018</td>\n",
       "      <td>Private room</td>\n",
       "      <td>29</td>\n",
       "      <td>2</td>\n",
       "      <td>154</td>\n",
       "      <td>2021-11-28</td>\n",
       "      <td>1.09</td>\n",
       "      <td>1</td>\n",
       "      <td>344</td>\n",
       "      <td>5</td>\n",
       "      <td>NaN</td>\n",
       "    </tr>\n",
       "  </tbody>\n",
       "</table>\n",
       "</div>"
      ],
      "text/plain": [
       "      id                                      name    host_id host_name  \\\n",
       "0   6369  Rooftop terrace room ,  ensuite bathroom      13660     Simon   \n",
       "1  21853                      Bright and airy room      83531     Abdel   \n",
       "2  23001         Apartmento Arganzuela- Madrid Rio      82175     Jesus   \n",
       "3  24805                    Gran Via Studio Madrid  346366726         A   \n",
       "4  26825        Single Room whith private Bathroom     114340  Agustina   \n",
       "\n",
       "  neighbourhood_group   neighbourhood  latitude  longitude        room_type  \\\n",
       "0           Chamartín  Hispanoamérica  40.45724   -3.67688     Private room   \n",
       "1              Latina        Cármenes  40.40381   -3.74130     Private room   \n",
       "2          Arganzuela         Legazpi  40.38840   -3.69511  Entire home/apt   \n",
       "3              Centro     Universidad  40.42183   -3.70529  Entire home/apt   \n",
       "4          Arganzuela         Legazpi  40.38975   -3.69018     Private room   \n",
       "\n",
       "   price  minimum_nights  number_of_reviews last_review  reviews_per_month  \\\n",
       "0     59               1                 81  2021-11-20               0.57   \n",
       "1     31               4                 33  2018-07-15               0.38   \n",
       "2     50              15                  0         NaN                NaN   \n",
       "3     92               5                 14  2021-11-29               0.16   \n",
       "4     29               2                154  2021-11-28               1.09   \n",
       "\n",
       "   calculated_host_listings_count  availability_365  number_of_reviews_ltm  \\\n",
       "0                               1               149                      3   \n",
       "1                               2               131                      0   \n",
       "2                               6               311                      0   \n",
       "3                               1               167                      4   \n",
       "4                               1               344                      5   \n",
       "\n",
       "  license  \n",
       "0     NaN  \n",
       "1     NaN  \n",
       "2     NaN  \n",
       "3     NaN  \n",
       "4     NaN  "
      ]
     },
     "execution_count": 7,
     "metadata": {},
     "output_type": "execute_result"
    }
   ],
   "source": [
    "df = pd.read_csv(\"listings.csv\", index_col = 0)\n",
    "df.head()"
   ]
  },
  {
   "cell_type": "code",
   "execution_count": null,
   "metadata": {},
   "outputs": [],
   "source": [
    "df.cov()"
   ]
  },
  {
   "cell_type": "markdown",
   "metadata": {},
   "source": [
    "# Ejercicio 3\n",
    "Con los resultados de la correlación del ejercicio anterior, cread un heatmap."
   ]
  },
  {
   "cell_type": "code",
   "execution_count": null,
   "metadata": {},
   "outputs": [],
   "source": [
    "sns.heatmap(df.corr(), # calculamos la correlación. En este caso, como no estamos especificando nada la correlación será la de Pearson.\n",
    "            cmap = \"YlGnBu\", # para especoficar el color del mapa\n",
    "           annot = True); # para sacar el valor de la correlación"
   ]
  },
  {
   "cell_type": "markdown",
   "metadata": {},
   "source": [
    "# Ejercicio 4\n",
    "Guardad la gráfica del heatmap."
   ]
  }
 ],
 "metadata": {
  "interpreter": {
   "hash": "328661ec968ebc77b93161299d44fd1f4547ee33c9a17c5e95f23064c7c08def"
  },
  "kernelspec": {
   "display_name": "Python 3.9.7 ('base')",
   "language": "python",
   "name": "python3"
  },
  "language_info": {
   "codemirror_mode": {
    "name": "ipython",
    "version": 3
   },
   "file_extension": ".py",
   "mimetype": "text/x-python",
   "name": "python",
   "nbconvert_exporter": "python",
   "pygments_lexer": "ipython3",
   "version": "3.9.7"
  },
  "orig_nbformat": 4
 },
 "nbformat": 4,
 "nbformat_minor": 2
}
