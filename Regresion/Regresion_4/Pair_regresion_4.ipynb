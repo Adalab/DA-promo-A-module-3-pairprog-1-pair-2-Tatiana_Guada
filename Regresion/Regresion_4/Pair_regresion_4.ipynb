{
 "cells": [
  {
   "cell_type": "code",
   "execution_count": 1,
   "metadata": {},
   "outputs": [],
   "source": [
    "# Importando paquetes! \n",
    "import numpy as np\n",
    "import pandas as pd\n",
    "import matplotlib.pyplot as plt\n",
    "import seaborn as sns\n",
    "import warnings\n",
    "warnings.filterwarnings( \"ignore\", module = \"seaborn\\..*\" )\n",
    "import sidetable\n",
    "import statsmodels.api as sm\n",
    "import pylab as py\n",
    "from sklearn.model_selection import train_test_split\n",
    "from sklearn.linear_model import LinearRegression,Lasso,Ridge\n",
    "from sklearn.preprocessing import MinMaxScaler, OrdinalEncoder, StandardScaler\n",
    "from sklearn.metrics import r2_score, mean_squared_error, mean_absolute_error\n",
    "\n",
    "from statsmodels.tools.tools import add_constant\n",
    "from statsmodels.stats.outliers_influence import variance_inflation_factor"
   ]
  },
  {
   "cell_type": "markdown",
   "metadata": {},
   "source": [
    "# Ejercicio 2\n",
    "Toma ahora el dataset del mejor modelo obtenido y aplica los siguentes modelos de regresión con regularización.\n",
    "Ridge\n",
    "Lasso."
   ]
  },
  {
   "cell_type": "markdown",
   "metadata": {},
   "source": [
    "# Ejercicio 1\n",
    "Tomando los datos del mejor modelo obtenido en la clase de la pair de ayer.\n",
    "Investiga la multicolinealidad de las variables independientes.\n",
    "Selecciona aquellas variables que tengan una colinealidad dentro de los margenes estandar. Mostrando como se han ido eliminando las variables y como han cambiado los resultados del VIF.\n",
    "Realiza un modelo de regresión lineal multiple para ver si se han mejorado los resultados obtenidos.\n",
    "Estudia si tus resultados son acordes a las asunciones de linealidad."
   ]
  },
  {
   "cell_type": "markdown",
   "metadata": {},
   "source": [
    "# Ejercicio 3\n",
    "Compara los resultados del ajuste lineal multiple donde se han eliminado variables y los obtenidos aplicando las regresiones de tipo Ridge y Lassso. Explica los resultados obtenidos."
   ]
  }
 ],
 "metadata": {
  "interpreter": {
   "hash": "328661ec968ebc77b93161299d44fd1f4547ee33c9a17c5e95f23064c7c08def"
  },
  "kernelspec": {
   "display_name": "Python 3.9.7 ('base')",
   "language": "python",
   "name": "python3"
  },
  "language_info": {
   "codemirror_mode": {
    "name": "ipython",
    "version": 3
   },
   "file_extension": ".py",
   "mimetype": "text/x-python",
   "name": "python",
   "nbconvert_exporter": "python",
   "pygments_lexer": "ipython3",
   "version": "3.9.7"
  },
  "orig_nbformat": 4
 },
 "nbformat": 4,
 "nbformat_minor": 2
}
